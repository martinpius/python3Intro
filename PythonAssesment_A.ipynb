{
  "nbformat": 4,
  "nbformat_minor": 0,
  "metadata": {
    "colab": {
      "provenance": []
    },
    "kernelspec": {
      "name": "python3",
      "display_name": "Python 3"
    },
    "language_info": {
      "name": "python"
    }
  },
  "cells": [
    {
      "cell_type": "code",
      "execution_count": null,
      "metadata": {
        "id": "rZ--7WyQ3WUr"
      },
      "outputs": [],
      "source": [
        "'''\n",
        "Introduction To Python Programming Assignment.\n",
        "TIME ALLOWED: 1 hour.\n",
        "Name:\n",
        "\n",
        "Reg #:\n",
        "\n",
        "Degree Program:\n",
        "\n",
        "Date:\n",
        "'''\n"
      ]
    },
    {
      "cell_type": "code",
      "source": [
        "# First import the following packages\n",
        "import seaborn as sns\n",
        "import matplotlib.pyplot as plt\n",
        "from sklearn.datasets import load_iris\n",
        "import pandas as pd\n",
        "import numpy as np"
      ],
      "metadata": {
        "id": "p9tXLbyi3oMJ"
      },
      "execution_count": null,
      "outputs": []
    },
    {
      "cell_type": "code",
      "source": [
        "# Question 1: Create a list in Python and add an element to it."
      ],
      "metadata": {
        "id": "NCuFnhpq4WHY"
      },
      "execution_count": null,
      "outputs": []
    },
    {
      "cell_type": "code",
      "source": [],
      "metadata": {
        "id": "8Cs5tn0x5YOn"
      },
      "execution_count": null,
      "outputs": []
    },
    {
      "cell_type": "code",
      "source": [
        "# Question 2: Write a Python function to calculate the factorial of a number."
      ],
      "metadata": {
        "id": "fuShZLeQ4WKt"
      },
      "execution_count": null,
      "outputs": []
    },
    {
      "cell_type": "code",
      "source": [],
      "metadata": {
        "id": "vEOKe-Ii5ZEm"
      },
      "execution_count": null,
      "outputs": []
    },
    {
      "cell_type": "code",
      "source": [
        "# Question 3: Write a Python function to calculate the sum of all elements in a list.\n"
      ],
      "metadata": {
        "id": "FJqNCqKJ4WNk"
      },
      "execution_count": null,
      "outputs": []
    },
    {
      "cell_type": "code",
      "source": [],
      "metadata": {
        "id": "qVNXuzPN5Z-c"
      },
      "execution_count": null,
      "outputs": []
    },
    {
      "cell_type": "code",
      "source": [
        "\n",
        "# Question 4: Create a dictionary in Python and retrieve a value using a key.\n"
      ],
      "metadata": {
        "id": "VkgWp2eV4WQL"
      },
      "execution_count": null,
      "outputs": []
    },
    {
      "cell_type": "code",
      "source": [],
      "metadata": {
        "id": "8taMbMpG5as-"
      },
      "execution_count": null,
      "outputs": []
    },
    {
      "cell_type": "code",
      "source": [
        "# Question 5: Create pandas data frame using numpy arrrays, save it as csv and load it.\n",
        "\n"
      ],
      "metadata": {
        "id": "pl_JStAX4WSh"
      },
      "execution_count": null,
      "outputs": []
    },
    {
      "cell_type": "code",
      "source": [],
      "metadata": {
        "id": "TIrw2G1R5bY2"
      },
      "execution_count": null,
      "outputs": []
    },
    {
      "cell_type": "code",
      "source": [
        "# Run the following codes to load a dataset from sklearn library\n",
        "\n",
        "iris = load_iris()\n",
        "iris_df = pd.DataFrame(iris.data, columns=iris.feature_names)\n",
        "\n",
        "# Question 6. Perform analysis for the above data. [descriptive statistics, plots, etc]\n",
        "# Question 7: Create a pair plot using seaborn package of the Iris dataset to visualize the relationships between features.\n"
      ],
      "metadata": {
        "id": "9v2CFt--4WX_"
      },
      "execution_count": null,
      "outputs": []
    },
    {
      "cell_type": "code",
      "source": [],
      "metadata": {
        "id": "RpOJmVzl4Wam"
      },
      "execution_count": null,
      "outputs": []
    },
    {
      "cell_type": "code",
      "source": [],
      "metadata": {
        "id": "cV-4fmdh4WgJ"
      },
      "execution_count": null,
      "outputs": []
    },
    {
      "cell_type": "code",
      "source": [],
      "metadata": {
        "id": "-ZqrNW-04WjM"
      },
      "execution_count": null,
      "outputs": []
    },
    {
      "cell_type": "code",
      "source": [],
      "metadata": {
        "id": "bKqajiVZ4WmD"
      },
      "execution_count": null,
      "outputs": []
    },
    {
      "cell_type": "code",
      "source": [],
      "metadata": {
        "id": "wA55LYtW4Wo7"
      },
      "execution_count": null,
      "outputs": []
    },
    {
      "cell_type": "code",
      "source": [],
      "metadata": {
        "id": "yp8_Ekrd4WrR"
      },
      "execution_count": null,
      "outputs": []
    },
    {
      "cell_type": "code",
      "source": [],
      "metadata": {
        "id": "AE8QyHYo4WuJ"
      },
      "execution_count": null,
      "outputs": []
    },
    {
      "cell_type": "code",
      "source": [],
      "metadata": {
        "id": "RV4zv1hZ4WxQ"
      },
      "execution_count": null,
      "outputs": []
    }
  ]
}